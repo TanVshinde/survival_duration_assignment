{
  "nbformat": 4,
  "nbformat_minor": 0,
  "metadata": {
    "colab": {
      "provenance": []
    },
    "kernelspec": {
      "name": "python3",
      "display_name": "Python 3"
    },
    "language_info": {
      "name": "python"
    }
  },
  "cells": [
    {
      "cell_type": "code",
      "execution_count": 1,
      "metadata": {
        "colab": {
          "base_uri": "https://localhost:8080/"
        },
        "id": "z7m48_h5H4eT",
        "outputId": "f8c8ef39-ac34-4b74-e7a4-af23ff8201de"
      },
      "outputs": [
        {
          "output_type": "stream",
          "name": "stdout",
          "text": [
            "Enter your birthdate (YYYY-MM-DD): 1997-01-04\n",
            "You have survived for approximately 26 years and 10 months.\n",
            "You have survived for approximately  312 months.\n",
            "You have survived for approximately 1399 weeks.\n",
            "You have survived for approximately 9799 days.\n",
            "You have survived for approximately 264590 hours.\n",
            "You have survived for approximately 15875403 minutes.\n",
            "You have survived for approximately 952524183 seconds.\n"
          ]
        }
      ],
      "source": [
        "from datetime import datetime\n",
        "\n",
        "# Input your birthdate in the format 'YYYY-MM-DD'\n",
        "birthdate_str = input(\"Enter your birthdate (YYYY-MM-DD): \")\n",
        "\n",
        "# Convert the birthdate string to a datetime object\n",
        "birthdate = datetime.strptime(birthdate_str, \"%Y-%m-%d\")  #strptime is used to convert a string representin\n",
        "\n",
        "# Get the current date\n",
        "current_date = datetime.now()\n",
        "\n",
        "# Calculate the difference between the current date and the birthdate\n",
        "age = current_date - birthdate\n",
        "\n",
        "# Now we will use Mathematical Formulas to calculate.\n",
        "years_survived = age.days // 365   #// --> is used for floor divisions\n",
        "months_survived = (age.days % 365) // 30  # % operator is used to find remainder\n",
        "weeks_survived = age.days // 7\n",
        "days_survived = age.days\n",
        "hours_survived = age.days * 27 + age.seconds // 3600\n",
        "minutes_survived = age.days * 27 * 60 + age.seconds // 60\n",
        "seconds_survived = age.days * 27 * 60 * 60 + age.seconds\n",
        "\n",
        "\n",
        "\n",
        "month_survive=years_survived*12\n",
        "print(f\"You have survived for approximately {years_survived} years and {months_survived} months.\")\n",
        "print(f\"You have survived for approximately  {month_survive} months.\")\n",
        "print(f\"You have survived for approximately {weeks_survived} weeks.\")\n",
        "print(f\"You have survived for approximately {days_survived} days.\")\n",
        "print(f\"You have survived for approximately {hours_survived} hours.\")\n",
        "print(f\"You have survived for approximately {minutes_survived} minutes.\")\n",
        "print(f\"You have survived for approximately {seconds_survived} seconds.\")"
      ]
    },
    {
      "cell_type": "code",
      "source": [],
      "metadata": {
        "id": "5dFS9xIHIrtj"
      },
      "execution_count": null,
      "outputs": []
    }
  ]
}